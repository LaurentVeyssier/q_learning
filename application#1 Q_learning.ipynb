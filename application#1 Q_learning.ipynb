{
 "cells": [
  {
   "cell_type": "code",
   "execution_count": 11,
   "metadata": {},
   "outputs": [],
   "source": [
    "import numpy as np\n",
    "import pandas as pd\n",
    "import random"
   ]
  },
  {
   "cell_type": "code",
   "execution_count": 123,
   "metadata": {},
   "outputs": [
    {
     "data": {
      "text/plain": [
       "(12, 12)"
      ]
     },
     "execution_count": 123,
     "metadata": {},
     "output_type": "execute_result"
    }
   ],
   "source": [
    "rewards = np.array([[0., 1, 0., 0., 0., 0., 0., 0., 0., 0., 0., 0.],\n",
    "                    [1, 0., 1, 0., 0., 1, 0., 0., 0., 0., 0., 0.],\n",
    "                    [0., 1, 0., 0., 0., 0., 1, 0., 0., 0., 0., 0.],\n",
    "                    [0., 0., 0., 0., 0., 0., 0., 1, 0., 0., 0., 0.],\n",
    "                    [0., 0., 0., 0., 0., 0., 0., 0., 1, 0., 0., 0.],\n",
    "                    [0., 1, 0., 0., 0., 0., 0., 0., 0., 1, 0., 0.],\n",
    "                    [0., 0., 1, 0., 0., 0., 1, 1, 0., 0., 0., 0.],\n",
    "                    [0., 0., 0., 1, 0., 0., 1, 0., 0., 0., 0., 1],\n",
    "                    [0., 0., 0., 0., 1, 0., 0., 0., 0., 1, 0., 0.],\n",
    "                    [0., 0., 0., 0., 0., 1, 0., 0., 1, 0., 1, 0.],\n",
    "                    [0., 0., 0., 0., 0., 0., 0., 0., 0., 1, 0., 1],\n",
    "                    [0., 0., 0., 0., 0., 0., 0., 1, 0., 0., 1, 0.],\n",
    "                    ])\n",
    "rewards.shape"
   ]
  },
  {
   "cell_type": "code",
   "execution_count": 124,
   "metadata": {},
   "outputs": [],
   "source": [
    "states = list(range(0,12))\n",
    "state_to_location = {0: 'A', 1: 'B', 2: 'C', 3: 'D', 4: 'E', 5: 'F', 6: 'G', 7: 'H', 8: 'I', 9: 'J', 10: 'K', 11: 'L'}\n",
    "location_to_state = {'A': 0, 'B': 1, 'C': 2, 'D': 3, 'E': 4, 'F': 5, 'G': 6, 'H': 7, 'I': 8, 'J': 9, 'K': 10, 'L': 11}\n",
    "actions = list(range(0, 12))\n",
    "num_states = len(states)\n",
    "num_actions = len(actions)\n",
    "gammma = 0.75\n",
    "alpha = 0.9"
   ]
  },
  {
   "cell_type": "code",
   "execution_count": 101,
   "metadata": {},
   "outputs": [],
   "source": [
    "# inititialize Q values (value of action j from state i)\n",
    "def initialize_q_values(num_states, num_actions):\n",
    "    # use a np array\n",
    "    q_values = np.zeros((num_states, num_actions))\n",
    "    return q_values"
   ]
  },
  {
   "cell_type": "code",
   "execution_count": 146,
   "metadata": {},
   "outputs": [
    {
     "data": {
      "text/plain": [
       "(12, 12)"
      ]
     },
     "execution_count": 146,
     "metadata": {},
     "output_type": "execute_result"
    }
   ],
   "source": [
    "q_values = initialize_q_values(num_states, num_actions)\n",
    "q_values.shape"
   ]
  },
  {
   "cell_type": "code",
   "execution_count": 127,
   "metadata": {},
   "outputs": [],
   "source": [
    "# Q learning\n",
    "\n",
    "for t in range(1000):\n",
    "    current_state = random.choice(states)\n",
    "    played_action = random.choice([a for a in actions if rewards[current_state,a]>0])\n",
    "    next_state = played_action\n",
    "\n",
    "    reward = rewards[current_state, played_action]\n",
    "    TD = reward + gammma * max(q_values[next_state,:]) - q_values[current_state, played_action]\n",
    "    q_values[current_state, played_action] += alpha * TD"
   ]
  },
  {
   "cell_type": "code",
   "execution_count": 128,
   "metadata": {},
   "outputs": [
    {
     "data": {
      "text/plain": [
       "array([[0, 3, 0, 0, 0, 0, 0, 0, 0, 0, 0, 0],\n",
       "       [3, 0, 3, 0, 0, 3, 0, 0, 0, 0, 0, 0],\n",
       "       [0, 3, 0, 0, 0, 0, 3, 0, 0, 0, 0, 0],\n",
       "       [0, 0, 0, 0, 0, 0, 0, 3, 0, 0, 0, 0],\n",
       "       [0, 0, 0, 0, 0, 0, 0, 0, 3, 0, 0, 0],\n",
       "       [0, 3, 0, 0, 0, 0, 0, 0, 0, 3, 0, 0],\n",
       "       [0, 0, 3, 0, 0, 0, 3, 3, 0, 0, 0, 0],\n",
       "       [0, 0, 0, 3, 0, 0, 3, 0, 0, 0, 0, 3],\n",
       "       [0, 0, 0, 0, 3, 0, 0, 0, 0, 3, 0, 0],\n",
       "       [0, 0, 0, 0, 0, 3, 0, 0, 3, 0, 3, 0],\n",
       "       [0, 0, 0, 0, 0, 0, 0, 0, 0, 3, 0, 3],\n",
       "       [0, 0, 0, 0, 0, 0, 0, 3, 0, 0, 3, 0]])"
      ]
     },
     "execution_count": 128,
     "metadata": {},
     "output_type": "execute_result"
    }
   ],
   "source": [
    "q_values.astype(int)"
   ]
  },
  {
   "cell_type": "code",
   "execution_count": 129,
   "metadata": {},
   "outputs": [
    {
     "data": {
      "text/html": [
       "<div>\n",
       "<style scoped>\n",
       "    .dataframe tbody tr th:only-of-type {\n",
       "        vertical-align: middle;\n",
       "    }\n",
       "\n",
       "    .dataframe tbody tr th {\n",
       "        vertical-align: top;\n",
       "    }\n",
       "\n",
       "    .dataframe thead th {\n",
       "        text-align: right;\n",
       "    }\n",
       "</style>\n",
       "<table border=\"1\" class=\"dataframe\">\n",
       "  <thead>\n",
       "    <tr style=\"text-align: right;\">\n",
       "      <th></th>\n",
       "      <th>0</th>\n",
       "      <th>1</th>\n",
       "      <th>2</th>\n",
       "      <th>3</th>\n",
       "      <th>4</th>\n",
       "      <th>5</th>\n",
       "      <th>6</th>\n",
       "      <th>7</th>\n",
       "      <th>8</th>\n",
       "      <th>9</th>\n",
       "      <th>10</th>\n",
       "      <th>11</th>\n",
       "    </tr>\n",
       "  </thead>\n",
       "  <tbody>\n",
       "    <tr>\n",
       "      <th>0</th>\n",
       "      <td></td>\n",
       "      <td>3</td>\n",
       "      <td></td>\n",
       "      <td></td>\n",
       "      <td></td>\n",
       "      <td></td>\n",
       "      <td></td>\n",
       "      <td></td>\n",
       "      <td></td>\n",
       "      <td></td>\n",
       "      <td></td>\n",
       "      <td></td>\n",
       "    </tr>\n",
       "    <tr>\n",
       "      <th>1</th>\n",
       "      <td>3</td>\n",
       "      <td></td>\n",
       "      <td>3</td>\n",
       "      <td></td>\n",
       "      <td></td>\n",
       "      <td>3</td>\n",
       "      <td></td>\n",
       "      <td></td>\n",
       "      <td></td>\n",
       "      <td></td>\n",
       "      <td></td>\n",
       "      <td></td>\n",
       "    </tr>\n",
       "    <tr>\n",
       "      <th>2</th>\n",
       "      <td></td>\n",
       "      <td>3</td>\n",
       "      <td></td>\n",
       "      <td></td>\n",
       "      <td></td>\n",
       "      <td></td>\n",
       "      <td>3</td>\n",
       "      <td></td>\n",
       "      <td></td>\n",
       "      <td></td>\n",
       "      <td></td>\n",
       "      <td></td>\n",
       "    </tr>\n",
       "    <tr>\n",
       "      <th>3</th>\n",
       "      <td></td>\n",
       "      <td></td>\n",
       "      <td></td>\n",
       "      <td></td>\n",
       "      <td></td>\n",
       "      <td></td>\n",
       "      <td></td>\n",
       "      <td>3</td>\n",
       "      <td></td>\n",
       "      <td></td>\n",
       "      <td></td>\n",
       "      <td></td>\n",
       "    </tr>\n",
       "    <tr>\n",
       "      <th>4</th>\n",
       "      <td></td>\n",
       "      <td></td>\n",
       "      <td></td>\n",
       "      <td></td>\n",
       "      <td></td>\n",
       "      <td></td>\n",
       "      <td></td>\n",
       "      <td></td>\n",
       "      <td>3</td>\n",
       "      <td></td>\n",
       "      <td></td>\n",
       "      <td></td>\n",
       "    </tr>\n",
       "    <tr>\n",
       "      <th>5</th>\n",
       "      <td></td>\n",
       "      <td>3</td>\n",
       "      <td></td>\n",
       "      <td></td>\n",
       "      <td></td>\n",
       "      <td></td>\n",
       "      <td></td>\n",
       "      <td></td>\n",
       "      <td></td>\n",
       "      <td>3</td>\n",
       "      <td></td>\n",
       "      <td></td>\n",
       "    </tr>\n",
       "    <tr>\n",
       "      <th>6</th>\n",
       "      <td></td>\n",
       "      <td></td>\n",
       "      <td>3</td>\n",
       "      <td></td>\n",
       "      <td></td>\n",
       "      <td></td>\n",
       "      <td>3</td>\n",
       "      <td>3</td>\n",
       "      <td></td>\n",
       "      <td></td>\n",
       "      <td></td>\n",
       "      <td></td>\n",
       "    </tr>\n",
       "    <tr>\n",
       "      <th>7</th>\n",
       "      <td></td>\n",
       "      <td></td>\n",
       "      <td></td>\n",
       "      <td>3</td>\n",
       "      <td></td>\n",
       "      <td></td>\n",
       "      <td>3</td>\n",
       "      <td></td>\n",
       "      <td></td>\n",
       "      <td></td>\n",
       "      <td></td>\n",
       "      <td>3</td>\n",
       "    </tr>\n",
       "    <tr>\n",
       "      <th>8</th>\n",
       "      <td></td>\n",
       "      <td></td>\n",
       "      <td></td>\n",
       "      <td></td>\n",
       "      <td>3</td>\n",
       "      <td></td>\n",
       "      <td></td>\n",
       "      <td></td>\n",
       "      <td></td>\n",
       "      <td>3</td>\n",
       "      <td></td>\n",
       "      <td></td>\n",
       "    </tr>\n",
       "    <tr>\n",
       "      <th>9</th>\n",
       "      <td></td>\n",
       "      <td></td>\n",
       "      <td></td>\n",
       "      <td></td>\n",
       "      <td></td>\n",
       "      <td>3</td>\n",
       "      <td></td>\n",
       "      <td></td>\n",
       "      <td>3</td>\n",
       "      <td></td>\n",
       "      <td>3</td>\n",
       "      <td></td>\n",
       "    </tr>\n",
       "    <tr>\n",
       "      <th>10</th>\n",
       "      <td></td>\n",
       "      <td></td>\n",
       "      <td></td>\n",
       "      <td></td>\n",
       "      <td></td>\n",
       "      <td></td>\n",
       "      <td></td>\n",
       "      <td></td>\n",
       "      <td></td>\n",
       "      <td>3</td>\n",
       "      <td></td>\n",
       "      <td>3</td>\n",
       "    </tr>\n",
       "    <tr>\n",
       "      <th>11</th>\n",
       "      <td></td>\n",
       "      <td></td>\n",
       "      <td></td>\n",
       "      <td></td>\n",
       "      <td></td>\n",
       "      <td></td>\n",
       "      <td></td>\n",
       "      <td>3</td>\n",
       "      <td></td>\n",
       "      <td></td>\n",
       "      <td>3</td>\n",
       "      <td></td>\n",
       "    </tr>\n",
       "  </tbody>\n",
       "</table>\n",
       "</div>"
      ],
      "text/plain": [
       "   0  1  2  3  4  5  6  7  8  9  10 11\n",
       "0      3                              \n",
       "1   3     3        3                  \n",
       "2      3              3               \n",
       "3                        3            \n",
       "4                           3         \n",
       "5      3                       3      \n",
       "6         3           3  3            \n",
       "7            3        3              3\n",
       "8               3              3      \n",
       "9                  3        3     3   \n",
       "10                             3     3\n",
       "11                       3        3   "
      ]
     },
     "execution_count": 129,
     "metadata": {},
     "output_type": "execute_result"
    }
   ],
   "source": [
    "pd.DataFrame(q_values.astype(int)).replace(0,'')"
   ]
  },
  {
   "cell_type": "code",
   "execution_count": 148,
   "metadata": {},
   "outputs": [],
   "source": [
    "def Q_learning(rewards, q_values):\n",
    "    # Q learning\n",
    "    for t in range(1000):\n",
    "        current_state = random.choice(states)\n",
    "        played_action = random.choice([a for a in actions if rewards[current_state,a]>0])\n",
    "        next_state = played_action\n",
    "\n",
    "        reward = rewards[current_state, played_action]\n",
    "        TD = reward + gammma * max(q_values[next_state,:]) - q_values[current_state, played_action]\n",
    "        q_values[current_state, played_action] += alpha * TD\n",
    "    return q_values\n",
    "\n",
    "def route(starting_loc_, ending_loc_):\n",
    "    starting_loc = location_to_state[starting_loc_]\n",
    "    ending_loc = location_to_state[ending_loc_]\n",
    "\n",
    "    # initialization\n",
    "    rewards_ = np.copy(rewards)\n",
    "    rewards_[ending_loc,ending_loc] = 1000\n",
    "    q_values = initialize_q_values(num_states, num_actions)\n",
    "    q_values = Q_learning(rewards_, q_values)\n",
    "\n",
    "    list_actions = []\n",
    "    list_actions.append(starting_loc)\n",
    "    next_loc = starting_loc\n",
    "    while next_loc != ending_loc:\n",
    "        next_loc = np.argmax(q_values[starting_loc,:])\n",
    "        list_actions.append(next_loc)\n",
    "        starting_loc = next_loc\n",
    "    print(f\"{starting_loc_} to {ending_loc_} optimal path found: {' -> '.join([state_to_location[i] for i in list_actions])}\")\n",
    "    return list_actions"
   ]
  },
  {
   "cell_type": "code",
   "execution_count": 151,
   "metadata": {},
   "outputs": [
    {
     "name": "stdout",
     "output_type": "stream",
     "text": [
      "A to D optimal path found: A -> B -> C -> G -> H -> D\n"
     ]
    }
   ],
   "source": [
    "_ = route('A', 'D')"
   ]
  },
  {
   "cell_type": "code",
   "execution_count": 160,
   "metadata": {},
   "outputs": [
    {
     "name": "stdout",
     "output_type": "stream",
     "text": [
      "calculating route from E to K\n",
      "E to K optimal path found: E -> I -> J -> K\n",
      "\n",
      "calculating route from K to B\n",
      "K to B optimal path found: K -> J -> F -> B\n",
      "\n",
      "Complete path: E -> I -> J -> K -> J -> F -> B\n"
     ]
    }
   ],
   "source": [
    "# Include intermediate destinations in order\n",
    "destinations = ['K','B']\n",
    "starting_loc_ = 'E'\n",
    "leg=[]\n",
    "for i,destination in enumerate(destinations):\n",
    "    print(f\"calculating route from {starting_loc_} to {destination}\")\n",
    "    if i>0:\n",
    "        # avoid repeating the starting point twice past first leg\n",
    "        leg.extend(route(starting_loc_, destination)[1:])\n",
    "    else:\n",
    "        leg.extend(route(starting_loc_, destination))\n",
    "    starting_loc_ = destination\n",
    "    print()\n",
    "print(f\"Complete path: {' -> '.join([state_to_location[i] for i in leg])}\")"
   ]
  },
  {
   "cell_type": "code",
   "execution_count": 169,
   "metadata": {},
   "outputs": [],
   "source": [
    "# let's package into a function\n",
    "def find_route(steps):\n",
    "    starting_loc_ = steps.pop(0)\n",
    "    best_route = []\n",
    "    for i,destination in enumerate(steps):\n",
    "        print(f\"calculating route from {starting_loc_} to {destination}\")\n",
    "        if i>0:\n",
    "            # avoid repeating the starting point twice past first leg\n",
    "            best_route.extend(route(starting_loc_, destination)[1:])\n",
    "        else:\n",
    "            best_route.extend(route(starting_loc_, destination))\n",
    "        starting_loc_ = destination\n",
    "        print()\n",
    "    print(f\"Complete path: {' -> '.join([state_to_location[i] for i in best_route])}\")\n",
    "    return best_route\n"
   ]
  },
  {
   "cell_type": "code",
   "execution_count": 170,
   "metadata": {},
   "outputs": [
    {
     "name": "stdout",
     "output_type": "stream",
     "text": [
      "calculating route from E to K\n",
      "E to K optimal path found: E -> I -> J -> K\n",
      "\n",
      "calculating route from K to B\n",
      "K to B optimal path found: K -> J -> F -> B\n",
      "\n",
      "Complete path: E -> I -> J -> K -> J -> F -> B\n"
     ]
    }
   ],
   "source": [
    "best_route = find_route(['E','K','B'])"
   ]
  },
  {
   "cell_type": "code",
   "execution_count": 171,
   "metadata": {},
   "outputs": [
    {
     "name": "stdout",
     "output_type": "stream",
     "text": [
      "calculating route from E to D\n",
      "E to D optimal path found: E -> I -> J -> K -> L -> H -> D\n",
      "\n",
      "calculating route from D to B\n",
      "D to B optimal path found: D -> H -> G -> C -> B\n",
      "\n",
      "Complete path: E -> I -> J -> K -> L -> H -> D -> H -> G -> C -> B\n"
     ]
    }
   ],
   "source": [
    "best_route = find_route(['E','D','B'])"
   ]
  },
  {
   "cell_type": "code",
   "execution_count": null,
   "metadata": {},
   "outputs": [],
   "source": []
  }
 ],
 "metadata": {
  "kernelspec": {
   "display_name": "datamap",
   "language": "python",
   "name": "python3"
  },
  "language_info": {
   "codemirror_mode": {
    "name": "ipython",
    "version": 3
   },
   "file_extension": ".py",
   "mimetype": "text/x-python",
   "name": "python",
   "nbconvert_exporter": "python",
   "pygments_lexer": "ipython3",
   "version": "3.10.14"
  }
 },
 "nbformat": 4,
 "nbformat_minor": 2
}
